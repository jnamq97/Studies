{
 "cells": [
  {
   "cell_type": "code",
   "execution_count": 6,
   "id": "008f2735",
   "metadata": {
    "scrolled": true
   },
   "outputs": [
    {
     "name": "stdout",
     "output_type": "stream",
     "text": [
      "0 0.6948983669281006\n",
      "100 0.693155825138092\n",
      "200 0.6931535601615906\n",
      "300 0.6931513547897339\n",
      "400 0.693149209022522\n",
      "500 0.6931473016738892\n",
      "600 0.6931453943252563\n",
      "700 0.6931434273719788\n",
      "800 0.6931416988372803\n",
      "900 0.6931397914886475\n",
      "1000 0.6931380033493042\n",
      "1100 0.6931361556053162\n",
      "1200 0.6931343078613281\n",
      "1300 0.6931324005126953\n",
      "1400 0.6931304931640625\n",
      "1500 0.6931284666061401\n",
      "1600 0.6931264400482178\n",
      "1700 0.6931242942810059\n",
      "1800 0.6931220889091492\n",
      "1900 0.6931197047233582\n",
      "2000 0.6931171417236328\n",
      "2100 0.6931145191192627\n",
      "2200 0.6931115984916687\n",
      "2300 0.6931084990501404\n",
      "2400 0.6931051015853882\n",
      "2500 0.6931014657020569\n",
      "2600 0.6930974721908569\n",
      "2700 0.6930930018424988\n",
      "2800 0.6930879950523376\n",
      "2900 0.6930825114250183\n",
      "3000 0.6930763721466064\n",
      "3100 0.6930692195892334\n",
      "3200 0.6930612325668335\n",
      "3300 0.6930519342422485\n",
      "3400 0.6930410861968994\n",
      "3500 0.6930283904075623\n",
      "3600 0.6930132508277893\n",
      "3700 0.6929951310157776\n",
      "3800 0.6929728984832764\n",
      "3900 0.6929453015327454\n",
      "4000 0.6929103136062622\n",
      "4100 0.6928649544715881\n",
      "4200 0.6928046941757202\n",
      "4300 0.692721962928772\n",
      "4400 0.692604124546051\n",
      "4500 0.6924278736114502\n",
      "4600 0.6921480298042297\n",
      "4700 0.6916664838790894\n",
      "4800 0.6907395124435425\n",
      "4900 0.6886203289031982\n",
      "5000 0.6820818185806274\n",
      "5100 0.6472527980804443\n",
      "5200 0.44994843006134033\n",
      "5300 0.041418157517910004\n",
      "5400 0.009738397784531116\n",
      "5500 0.005035833455622196\n",
      "5600 0.0032971729524433613\n",
      "5700 0.0024168307427316904\n",
      "5800 0.0018922279123216867\n",
      "5900 0.0015467405319213867\n",
      "6000 0.0013033139985054731\n",
      "6100 0.0011231712996959686\n",
      "6200 0.0009848718764260411\n",
      "6300 0.0008755262824706733\n",
      "6400 0.000787071418017149\n",
      "6500 0.0007141333189792931\n",
      "6600 0.0006530550308525562\n",
      "6700 0.0006011504447087646\n",
      "6800 0.0005565693136304617\n",
      "6900 0.0005178644205443561\n",
      "7000 0.00048400633386336267\n",
      "7100 0.0004541150410659611\n",
      "7200 0.00042753416346386075\n",
      "7300 0.0004037863982375711\n",
      "7400 0.0003824243613053113\n",
      "7500 0.0003631050349213183\n",
      "7600 0.00034560466883704066\n",
      "7700 0.00032958033261820674\n",
      "7800 0.00031495740404352546\n",
      "7900 0.00030152720864862204\n",
      "8000 0.0002891554613597691\n",
      "8100 0.0002777229528874159\n",
      "8200 0.00026711029931902885\n",
      "8300 0.000257257983321324\n",
      "8400 0.0002480764815118164\n",
      "8500 0.00023949125898070633\n",
      "8600 0.0002314575540367514\n",
      "8700 0.0002239307068521157\n",
      "8800 0.0002168510400224477\n",
      "8900 0.00021021856809966266\n",
      "9000 0.00020391402358654886\n",
      "9100 0.0001979821245186031\n",
      "9200 0.00019239308312535286\n",
      "9300 0.00018708722200244665\n",
      "9400 0.00018206457025371492\n",
      "9500 0.00017725062207318842\n",
      "9600 0.00017273474077228457\n",
      "9700 0.00016841263277456164\n",
      "9800 0.00016429921379312873\n",
      "9900 0.00016036465240176767\n",
      "10000 0.0001565940328873694\n"
     ]
    }
   ],
   "source": [
    "#XOR 다층 퍼셉트론\n",
    "import torch\n",
    "import torch.nn as nn\n",
    "\n",
    "device = 'cuda' if torch.cuda.is_available() else 'cpu'\n",
    "\n",
    "torch.manual_seed(777)\n",
    "if device == 'cuda':\n",
    "    torch.cuda.manual_seed_all(777)\n",
    "\n",
    "X = torch.FloatTensor([[0,0], [0,1], [1,0], [1,1]]).to(device)\n",
    "Y = torch.FloatTensor([[0], [1], [1], [0]]).to(device)\n",
    "\n",
    "model = nn.Sequential(\n",
    "    nn.Linear(2,10, bias=True),\n",
    "    nn.Sigmoid(),\n",
    "    nn.Linear(10,10, bias=True),\n",
    "    nn.Sigmoid(), \n",
    "    nn.Linear(10,10, bias=True), \n",
    "    nn.Sigmoid(), \n",
    "    nn.Linear(10,1, bias=True), \n",
    "    nn.Sigmoid()\n",
    ").to(device)\n",
    "\n",
    "optimizer = torch.optim.SGD(model.parameters(), lr=1)\n",
    "criterion = torch.nn.BCELoss().to(device)\n",
    "\n",
    "for epoch in range(10001):\n",
    "    hypothesis = model(X)\n",
    "    cost = criterion(hypothesis, Y)\n",
    "    optimizer.zero_grad()\n",
    "    cost.backward()\n",
    "    optimizer.step()\n",
    "    \n",
    "    if epoch%100 == 0: \n",
    "        print(epoch, cost.item())"
   ]
  },
  {
   "cell_type": "code",
   "execution_count": 15,
   "id": "9df51bc5",
   "metadata": {
    "scrolled": false
   },
   "outputs": [
    {
     "name": "stdout",
     "output_type": "stream",
     "text": [
      "모델의 출력값(Hypothesis): [[1.11739784e-04]\n",
      " [9.99828696e-01]\n",
      " [9.99842167e-01]\n",
      " [1.85383164e-04]]\n",
      "모델의 예측값(Predicted): [[0.]\n",
      " [1.]\n",
      " [1.]\n",
      " [0.]]\n",
      "실제값(Y): [[0.]\n",
      " [1.]\n",
      " [1.]\n",
      " [0.]]\n",
      "정확도(Accuracy): 1.0\n"
     ]
    }
   ],
   "source": [
    "#다층 퍼셉트론으로 XOR test\n",
    "with torch.no_grad(): \n",
    "#evaluation 단계에서는 gradient 계산이 필요하지 않으므로(학습이 완료 되었기 때문에) \n",
    "#비활성화시켜 불필요한 메모리가 줄고 연산속도가 증가한다.\n",
    "    hypothesis = model(X)\n",
    "    prediction = (hypothesis>0.5).float()\n",
    "    accuracy = (Y == prediction).float().mean()\n",
    "    print('모델의 출력값(Hypothesis):', hypothesis.detach().cpu().numpy())\n",
    "    print('모델의 예측값(Predicted):', prediction.detach().cpu().numpy())\n",
    "    print('실제값(Y):', Y.cpu().numpy())\n",
    "    print('정확도(Accuracy):', accuracy.item())"
   ]
  },
  {
   "cell_type": "code",
   "execution_count": 3,
   "id": "6485cb9e",
   "metadata": {
    "scrolled": true
   },
   "outputs": [
    {
     "name": "stdout",
     "output_type": "stream",
     "text": [
      "[[ 0.  0.  5. 13.  9.  1.  0.  0.]\n",
      " [ 0.  0. 13. 15. 10. 15.  5.  0.]\n",
      " [ 0.  3. 15.  2.  0. 11.  8.  0.]\n",
      " [ 0.  4. 12.  0.  0.  8.  8.  0.]\n",
      " [ 0.  5.  8.  0.  0.  9.  8.  0.]\n",
      " [ 0.  4. 11.  0.  1. 12.  7.  0.]\n",
      " [ 0.  2. 14.  5. 10. 12.  0.  0.]\n",
      " [ 0.  0.  6. 13. 10.  0.  0.  0.]]\n",
      "0\n"
     ]
    },
    {
     "data": {
      "image/png": "[encoded data removed]",
      "text/plain": [
       "<Figure size 432x288 with 5 Axes>"
      ]
     },
     "metadata": {
      "needs_background": "light"
     },
     "output_type": "display_data"
    }
   ],
   "source": [
    "#다층 퍼셉트론으로 손글씨 분류하기\n",
    "#숫자 필기 데이터 출력해보기\n",
    "import matplotlib.pyplot as plt\n",
    "from sklearn.datasets import load_digits\n",
    "\n",
    "digits = load_digits()\n",
    "print(digits.images[0])\n",
    "print(digits.target[0])\n",
    "\n",
    "#5개만 뽑아서 시각화\n",
    "images_and_labels = list(zip(digits.images, digits.target))\n",
    "for index, (image, label) in enumerate(images_and_labels[:5]) : \n",
    "    plt.subplot(1,5,index+1)\n",
    "    plt.axis('off')\n",
    "    plt.imshow(image, cmap=plt.cm.gray_r, interpolation= 'nearest')\n",
    "    plt.title('sample: %i' %label)"
   ]
  },
  {
   "cell_type": "code",
   "execution_count": 10,
   "id": "35857c53",
   "metadata": {
    "scrolled": true
   },
   "outputs": [
    {
     "name": "stdout",
     "output_type": "stream",
     "text": [
      "[[ 0.  0.  5. 13.  9.  1.  0.  0.]\n",
      " [ 0.  0. 13. 15. 10. 15.  5.  0.]\n",
      " [ 0.  3. 15.  2.  0. 11.  8.  0.]\n",
      " [ 0.  4. 12.  0.  0.  8.  8.  0.]\n",
      " [ 0.  5.  8.  0.  0.  9.  8.  0.]\n",
      " [ 0.  4. 11.  0.  1. 12.  7.  0.]\n",
      " [ 0.  2. 14.  5. 10. 12.  0.  0.]\n",
      " [ 0.  0.  6. 13. 10.  0.  0.  0.]]\n",
      "0\n",
      "[ 0.  0.  5. 13.  9.  1.  0.  0.  0.  0. 13. 15. 10. 15.  5.  0.  0.  3.\n",
      " 15.  2.  0. 11.  8.  0.  0.  4. 12.  0.  0.  8.  8.  0.  0.  5.  8.  0.\n",
      "  0.  9.  8.  0.  0.  4. 11.  0.  1. 12.  7.  0.  0.  2. 14.  5. 10. 12.\n",
      "  0.  0.  0.  0.  6. 13. 10.  0.  0.  0.]\n",
      "Epoch:   0/100 Cost:2.291620\n",
      "Epoch:  10/100 Cost:1.913135\n",
      "Epoch:  20/100 Cost:1.564471\n",
      "Epoch:  30/100 Cost:1.160956\n",
      "Epoch:  40/100 Cost:0.831257\n",
      "Epoch:  50/100 Cost:0.607095\n",
      "Epoch:  60/100 Cost:0.462553\n",
      "Epoch:  70/100 Cost:0.366185\n",
      "Epoch:  80/100 Cost:0.297865\n",
      "Epoch:  90/100 Cost:0.246943\n"
     ]
    },
    {
     "data": {
      "image/png": "[encoded data removed]",
      "text/plain": [
       "<Figure size 432x288 with 5 Axes>"
      ]
     },
     "metadata": {
      "needs_background": "light"
     },
     "output_type": "display_data"
    }
   ],
   "source": [
    "import matplotlib.pyplot as plt\n",
    "from sklearn.datasets import load_digits\n",
    "\n",
    "digits = load_digits()\n",
    "print(digits.images[0])\n",
    "print(digits.target[0])\n",
    "\n",
    "images_and_labels = list(zip(digits.images, digits.target))\n",
    "for index, (image, label) in enumerate(images_and_labels[:5]):\n",
    "    plt.subplot(1,5, index+1)\n",
    "    plt.axis('off')\n",
    "    plt.imshow(image, cmap='Greys', interpolation = 'nearest')\n",
    "    plt.title('sample: %i'%label)\n",
    "    \n",
    "print(digits.data[0])\n",
    "# 학습시키기\n",
    "import torch\n",
    "import torch.nn as nn\n",
    "import torch.optim as optim\n",
    "\n",
    "X = torch.tensor(digits.data, dtype=torch.float32)\n",
    "Y = torch.tensor(digits.target, dtype=torch.int64)\n",
    "\n",
    "model = nn.Sequential(nn.Linear(64, 32), \n",
    "                     nn.ReLU(),\n",
    "                     nn.Linear(32, 16),\n",
    "                     nn.ReLU(),\n",
    "                     nn.Linear(16,10)\n",
    "                     )\n",
    "loss_fn = torch.nn.CrossEntropyLoss()\n",
    "optimizer = optim.Adam(model.parameters())\n",
    "losses = []\n",
    "\n",
    "for epoch in range(100):\n",
    "    optimizer.zero_grad()\n",
    "    hypothesis = model(X)\n",
    "    cost = loss_fn(hypothesis, Y)\n",
    "    cost.backward()\n",
    "    optimizer.step()\n",
    "    \n",
    "    if epoch%10==0:\n",
    "        print('Epoch:{:4d}/{} Cost:{:.6f}'.format(epoch, 100, cost.item()))\n",
    "        losses.append(cost.item())"
   ]
  },
  {
   "cell_type": "code",
   "execution_count": 11,
   "id": "387df4eb",
   "metadata": {},
   "outputs": [
    {
     "data": {
      "text/plain": [
       "[<matplotlib.lines.Line2D at 0x19fa8da35b0>]"
      ]
     },
     "execution_count": 11,
     "metadata": {},
     "output_type": "execute_result"
    },
    {
     "data": {
      "image/png": "[encoded data removed]",
      "text/plain": [
       "<Figure size 432x288 with 1 Axes>"
      ]
     },
     "metadata": {
      "needs_background": "light"
     },
     "output_type": "display_data"
    }
   ],
   "source": [
    "plt.plot(losses)"
   ]
  },
  {
   "cell_type": "code",
   "execution_count": null,
   "id": "e54d1d55",
   "metadata": {},
   "outputs": [],
   "source": [
    " "
   ]
  }
 ],
 "metadata": {
  "kernelspec": {
   "display_name": "tensorflow",
   "language": "python",
   "name": "tensorflow"
  },
  "language_info": {
   "codemirror_mode": {
    "name": "ipython",
    "version": 3
   },
   "file_extension": ".py",
   "mimetype": "text/x-python",
   "name": "python",
   "nbconvert_exporter": "python",
   "pygments_lexer": "ipython3",
   "version": "3.8.12"
  }
 },
 "nbformat": 4,
 "nbformat_minor": 5
}
