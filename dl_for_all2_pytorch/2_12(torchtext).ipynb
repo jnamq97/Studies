{
 "cells": [
  {
   "cell_type": "code",
   "execution_count": 1,
   "id": "cd2969f4",
   "metadata": {},
   "outputs": [],
   "source": [
    "en_text = \"A Dog Run back corner near spare bedrooms\""
   ]
  },
  {
   "cell_type": "code",
   "execution_count": null,
   "id": "ac1599f2",
   "metadata": {},
   "outputs": [],
   "source": [
    "#spaCy\n",
    "import spacy\n",
    "spacy_en = spacy.load('en')\n",
    "\n",
    "def tokenize(en_text):\n",
    "    return []"
   ]
  }
 ],
 "metadata": {
  "kernelspec": {
   "display_name": "tensorflow",
   "language": "python",
   "name": "tensorflow"
  },
  "language_info": {
   "codemirror_mode": {
    "name": "ipython",
    "version": 3
   },
   "file_extension": ".py",
   "mimetype": "text/x-python",
   "name": "python",
   "nbconvert_exporter": "python",
   "pygments_lexer": "ipython3",
   "version": "3.9.7"
  }
 },
 "nbformat": 4,
 "nbformat_minor": 5
}
