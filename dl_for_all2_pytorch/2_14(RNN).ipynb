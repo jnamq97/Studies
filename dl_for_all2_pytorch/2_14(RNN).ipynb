{
 "cells": [
  {
   "cell_type": "code",
   "execution_count": 1,
   "id": "fde5755f",
   "metadata": {},
   "outputs": [
    {
     "name": "stdout",
     "output_type": "stream",
     "text": [
      "[0. 0. 0. 0. 0. 0. 0. 0.]\n"
     ]
    }
   ],
   "source": [
    "#RNN using python\n",
    "import numpy as np\n",
    "\n",
    "timesteps = 10\n",
    "input_size = 4\n",
    "hidden_size = 8\n",
    "\n",
    "inputs = np.random.random((timesteps, input_size))\n",
    "hidden_state = np.zeros((hidden_size,))\n",
    "\n",
    "print(hidden_state)"
   ]
  },
  {
   "cell_type": "code",
   "execution_count": 3,
   "id": "b1e55ad6",
   "metadata": {},
   "outputs": [
    {
     "name": "stdout",
     "output_type": "stream",
     "text": [
      "(8, 4)\n",
      "(8, 8)\n",
      "(8,)\n"
     ]
    }
   ],
   "source": [
    "Wx = np.random.random((hidden_size, input_size))\n",
    "Wh = np.random.random((hidden_size, hidden_size))\n",
    "b = np.random.random((hidden_size, ))\n",
    "\n",
    "print(np.shape(Wx))\n",
    "print(np.shape(Wh))\n",
    "print(np.shape(b))"
   ]
  },
  {
   "cell_type": "code",
   "execution_count": 9,
   "id": "b59f56e6",
   "metadata": {
    "scrolled": true
   },
   "outputs": [
    {
     "name": "stdout",
     "output_type": "stream",
     "text": [
      "(1, 8)\n",
      "(2, 8)\n",
      "(3, 8)\n",
      "(4, 8)\n",
      "(5, 8)\n",
      "(6, 8)\n",
      "(7, 8)\n",
      "(8, 8)\n",
      "(9, 8)\n",
      "(10, 8)\n",
      "[[0.9999969243238089, 0.9998853516597835, 0.9998849645400356, 0.999999736469511, 0.9998778724644404, 0.9998213076599156, 0.9998357311566562, 0.9998701216881494], [0.9999863634957862, 0.9997546662872822, 0.9996213480663131, 0.999998698927279, 0.9994271050241537, 0.9992525644988104, 0.9996338732466398, 0.9997748828432673], [0.9999983441986466, 0.9999028414187153, 0.9999519762844062, 0.9999998872795709, 0.9999172369042629, 0.9998544360636283, 0.9999143860817864, 0.9998962032168959], [0.9999982839886618, 0.999894794947043, 0.9999457359163122, 0.999999780654849, 0.9998667383989834, 0.9999313754252328, 0.9998637108256189, 0.9998923149635146], [0.999998114402989, 0.9999466512938815, 0.9999516415075465, 0.9999998366530009, 0.9999397110270848, 0.9999140256067791, 0.9999273841250137, 0.999903318795905], [0.9999985240510273, 0.9999461356082575, 0.9999673058358863, 0.999999862089646, 0.9999356033954663, 0.9999326485710706, 0.9999385234161665, 0.9999103899706222], [0.9999963525306645, 0.9999136441297024, 0.9999217966912719, 0.9999997609987195, 0.9998862418259183, 0.9997306020701638, 0.9999112305193939, 0.999874391494834], [0.999997367517449, 0.9999366309474882, 0.9999436932494425, 0.9999997472913873, 0.9999033161493768, 0.9998904929925374, 0.9999165769926464, 0.9998911324667042], [0.9999944888524368, 0.9998071695674462, 0.9998101742480546, 0.9999993029696148, 0.9996516047043118, 0.9997742706364829, 0.9996915935323927, 0.9998314393198559], [0.9999961089695034, 0.999900237742519, 0.9998782138159432, 0.9999995493451922, 0.999842036387966, 0.9998621703720331, 0.9998230413129746, 0.9998649692592496]]\n"
     ]
    }
   ],
   "source": [
    "total_hidden_states = []\n",
    "for input_t in inputs :\n",
    "    hidden_state = np.tanh(np.dot(Wx,input_t)+np.dot(Wh,hidden_state)+b)\n",
    "    total_hidden_states.append(list(hidden_state))\n",
    "    print(np.shape(total_hidden_states))\n",
    "\n",
    "print(total_hidden_states)"
   ]
  },
  {
   "cell_type": "code",
   "execution_count": 10,
   "id": "1c34c9e7",
   "metadata": {},
   "outputs": [
    {
     "name": "stdout",
     "output_type": "stream",
     "text": [
      "torch.Size([1, 10, 8])\n",
      "torch.Size([1, 1, 8])\n"
     ]
    }
   ],
   "source": [
    "#RNN using torch(nn.Module)\n",
    "import torch\n",
    "import torch.nn as nn\n",
    "\n",
    "input_size = 5\n",
    "hidden_size = 8\n",
    "\n",
    "inputs = torch.Tensor(1,10,5)\n",
    "\n",
    "cell = nn.RNN(input_size, hidden_size, batch_first=True)\n",
    "\n",
    "outputs, _status = cell(inputs)\n",
    "\n",
    "print(outputs.shape)#모든 시점의 은닉상태들(단, 마지막 층만)\n",
    "print(_status.shape)#마지막 시점의 은닉상태"
   ]
  },
  {
   "cell_type": "code",
   "execution_count": 11,
   "id": "648492e0",
   "metadata": {},
   "outputs": [
    {
     "name": "stdout",
     "output_type": "stream",
     "text": [
      "torch.Size([1, 10, 8])\n",
      "torch.Size([2, 1, 8])\n"
     ]
    }
   ],
   "source": [
    "#Deep RNN\n",
    "import torch\n",
    "import torch.nn as nn\n",
    "\n",
    "inputs = torch.Tensor(1, 10, 5)\n",
    "\n",
    "cell = nn.RNN(input_size=5, hidden_size=8, num_layers=2, batch_first=True)\n",
    "outputs, _status = cell(inputs)\n",
    "\n",
    "print(outputs.shape)\n",
    "print(_status.shape)"
   ]
  },
  {
   "cell_type": "code",
   "execution_count": null,
   "id": "2ef0601e",
   "metadata": {},
   "outputs": [],
   "source": []
  }
 ],
 "metadata": {
  "kernelspec": {
   "display_name": "tensorflow",
   "language": "python",
   "name": "tensorflow"
  },
  "language_info": {
   "codemirror_mode": {
    "name": "ipython",
    "version": 3
   },
   "file_extension": ".py",
   "mimetype": "text/x-python",
   "name": "python",
   "nbconvert_exporter": "python",
   "pygments_lexer": "ipython3",
   "version": "3.9.7"
  }
 },
 "nbformat": 4,
 "nbformat_minor": 5
}
